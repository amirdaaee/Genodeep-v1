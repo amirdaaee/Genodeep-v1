{
 "cells": [
  {
   "cell_type": "code",
   "execution_count": null,
   "metadata": {
    "ExecuteTime": {
     "end_time": "2020-07-18T11:14:56.391996Z",
     "start_time": "2020-07-18T11:14:56.384113Z"
    }
   },
   "outputs": [],
   "source": [
    "import sys\n",
    "import json\n",
    "import copy\n",
    "with open('./paths', 'r') as f:\n",
    "    globals().update(json.loads(f.read()))\n",
    "sys.path.append(path_Modules_Product_)\n",
    "sys.path.append(path_Modules_Toolbox_)"
   ]
  },
  {
   "cell_type": "code",
   "execution_count": null,
   "metadata": {
    "ExecuteTime": {
     "end_time": "2020-07-18T11:14:57.330613Z",
     "start_time": "2020-07-18T11:14:56.807953Z"
    }
   },
   "outputs": [],
   "source": [
    "import pandas as pd\n",
    "import numpy as np\n",
    "import matplotlib.pyplot as plt\n",
    "%matplotlib inline"
   ]
  },
  {
   "cell_type": "code",
   "execution_count": null,
   "metadata": {
    "ExecuteTime": {
     "end_time": "2020-07-18T11:14:58.459934Z",
     "start_time": "2020-07-18T11:14:57.332122Z"
    }
   },
   "outputs": [],
   "source": [
    "import data_processing as myprep\n",
    "import handles as myhandles\n",
    "import plots as myplots"
   ]
  },
  {
   "cell_type": "markdown",
   "metadata": {},
   "source": [
    "# Data Dist."
   ]
  },
  {
   "cell_type": "markdown",
   "metadata": {},
   "source": [
    "## dataset_main"
   ]
  },
  {
   "cell_type": "code",
   "execution_count": null,
   "metadata": {
    "ExecuteTime": {
     "end_time": "2020-07-18T11:15:10.619589Z",
     "start_time": "2020-07-18T11:15:09.655951Z"
    }
   },
   "outputs": [],
   "source": [
    "dataset_ = pd.read_csv('../../Data/processed/dataset/ds_main.csv', index_col=0)\n",
    "cancer_sets = ['Colorectum', 'Lung', 'Breast', 'Ovary', 'Stomach', 'Esophagus']\n",
    "normal_set = 'Normal'\n",
    "all_sets = copy.deepcopy(cancer_sets)\n",
    "all_sets.append(normal_set)\n",
    "dataset = dataset_.dropna()\n",
    "dataset = dataset.loc[np.logical_and(dataset.s_Age >= 40,dataset.s_Age <= 70)]\n",
    "dataset = dataset.loc[np.isin(dataset.s_Tumor, all_sets)].copy()\n",
    "dataset['Target'] = 1\n",
    "dataset.loc[dataset.s_Tumor == 'Normal', 'Target'] = 0"
   ]
  },
  {
   "cell_type": "code",
   "execution_count": null,
   "metadata": {
    "scrolled": false
   },
   "outputs": [],
   "source": [
    "n_fig_rows = np.ceil(len(p_markers))\n",
    "plt.figure(figsize=(15, 5 * n_fig_rows))\n",
    "for c, p in enumerate(p_markers):\n",
    "    ax = plt.subplot(n_fig_rows, 2, 2 * c + 1)\n",
    "    for t, dt in dataset.groupby('s_Tumor'):\n",
    "        pdata = np.log10(dt[p])\n",
    "        i = np.linspace(pdata.min(), pdata.max(), 100)\n",
    "        pdata.plot.kde(ax=ax, label=t, ind=i, grid=True)\n",
    "    plt.title(p)\n",
    "    plt.legend()\n",
    "    ax = plt.subplot(n_fig_rows, 2, 2 * c + 2)\n",
    "    for t, dt in dataset.groupby('Target'):\n",
    "        pdata = np.log10(dt[p])\n",
    "        i = np.linspace(pdata.min(), pdata.max(), 100)\n",
    "        pdata.plot.kde(ax=ax, label=t, ind=i, grid=True)\n",
    "    plt.title(p)\n",
    "    plt.legend()"
   ]
  },
  {
   "cell_type": "markdown",
   "metadata": {
    "heading_collapsed": true
   },
   "source": [
    "## OOB B"
   ]
  },
  {
   "cell_type": "code",
   "execution_count": null,
   "metadata": {
    "hidden": true
   },
   "outputs": [],
   "source": [
    "ds = pd.read_csv('../Data/processed/dataset/ds_OOB_B.csv',index_col=0)\n",
    "ds"
   ]
  },
  {
   "cell_type": "code",
   "execution_count": null,
   "metadata": {
    "hidden": true
   },
   "outputs": [],
   "source": [
    "np.sort([x for x in ds.columns if x.startswith('p_')])"
   ]
  },
  {
   "cell_type": "code",
   "execution_count": null,
   "metadata": {
    "hidden": true
   },
   "outputs": [],
   "source": [
    "ax=np.log10(ds['p_CA15-3_1']).plot.kde()\n",
    "np.log10(ds['p_CA15-3_2']).plot.kde(ax=ax)"
   ]
  },
  {
   "cell_type": "markdown",
   "metadata": {},
   "source": [
    "## OOB C"
   ]
  },
  {
   "cell_type": "code",
   "execution_count": null,
   "metadata": {},
   "outputs": [],
   "source": [
    "ds = pd.read_csv('../Data/processed/dataset/ds_OOB_C.csv',index_col=0)\n",
    "ds"
   ]
  },
  {
   "cell_type": "markdown",
   "metadata": {},
   "source": [
    "### Proteins"
   ]
  },
  {
   "cell_type": "code",
   "execution_count": null,
   "metadata": {},
   "outputs": [],
   "source": [
    "np.sort([x for x in ds.columns if x.startswith('p_')])"
   ]
  },
  {
   "cell_type": "code",
   "execution_count": null,
   "metadata": {
    "scrolled": false
   },
   "outputs": [],
   "source": [
    "m = [ 'p_PROLACTIN_L',\n",
    "       'p_PROLACTIN_M','p_PROLACTIN']\n",
    "fig = plt.figure(figsize=(15, 5))\n",
    "ax = plt.subplot(1, 2 ,1)\n",
    "np.log10(ds[m].dropna()).plot.kde(ax=ax)\n",
    "ax = plt.subplot(1, 2 ,2)\n",
    "plt.axis('off')\n",
    "plt.text(0,0,ds[m].describe().to_string());"
   ]
  },
  {
   "cell_type": "markdown",
   "metadata": {},
   "source": [
    "### Phenotypes"
   ]
  },
  {
   "cell_type": "code",
   "execution_count": null,
   "metadata": {},
   "outputs": [],
   "source": [
    "i = 's_BMI'\n",
    "d_ = ds[i]\n",
    "d_.plot.kde(ind = np.linspace(d_.min(),d_.max(),100))"
   ]
  },
  {
   "cell_type": "markdown",
   "metadata": {},
   "source": [
    "### Other"
   ]
  },
  {
   "cell_type": "code",
   "execution_count": null,
   "metadata": {},
   "outputs": [],
   "source": [
    "ds.s_Smoker.value_counts()"
   ]
  },
  {
   "cell_type": "markdown",
   "metadata": {},
   "source": [
    "# Normalization"
   ]
  },
  {
   "cell_type": "markdown",
   "metadata": {},
   "source": [
    "## OOB C"
   ]
  },
  {
   "cell_type": "code",
   "execution_count": null,
   "metadata": {},
   "outputs": [],
   "source": [
    "ds = pd.read_csv('../Data/processed/dataset/ds_OOB_C.csv',index_col=0)\n",
    "ds"
   ]
  },
  {
   "cell_type": "markdown",
   "metadata": {},
   "source": [
    "### log -> standard"
   ]
  },
  {
   "cell_type": "code",
   "execution_count": null,
   "metadata": {},
   "outputs": [],
   "source": []
  },
  {
   "cell_type": "markdown",
   "metadata": {
    "heading_collapsed": true
   },
   "source": [
    "# Phenotype Corr."
   ]
  },
  {
   "cell_type": "markdown",
   "metadata": {
    "hidden": true
   },
   "source": [
    "## dataset_main"
   ]
  },
  {
   "cell_type": "code",
   "execution_count": null,
   "metadata": {
    "hidden": true
   },
   "outputs": [],
   "source": [
    "dataset = pd.read_csv('../Data/processed/dataset/ds_main.csv',index_col=0)\n",
    "p_markers = [x for x in dataset.columns if x.startswith('p_')]"
   ]
  },
  {
   "cell_type": "code",
   "execution_count": null,
   "metadata": {
    "hidden": true
   },
   "outputs": [],
   "source": [
    "ds = dataset.loc[dataset.s_Tumor == 'Normal'].copy()\n",
    "i_male = ds.loc[ds.s_Sex == 'M'].index\n",
    "i_female = ds.loc[ds.s_Sex == 'F'].index"
   ]
  },
  {
   "cell_type": "code",
   "execution_count": null,
   "metadata": {
    "hidden": true,
    "scrolled": false
   },
   "outputs": [],
   "source": [
    "fig_cols = int(np.ceil(len(p_markers) / 2))\n",
    "fig = myhandles.default_fig(figsize=(15, 5 * fig_cols))\n",
    "age_bins = np.arange(20, 81, 10)\n",
    "age_sets = age_bins + 5\n",
    "for c1, p in enumerate(p_markers):\n",
    "    ax = plt.subplot(fig_cols, 2, c1 + 1)\n",
    "    for i, g, c in zip([i_male, i_female], ['male', 'female'], ['b', 'r']):\n",
    "        d = ds.loc[i]\n",
    "#         d = d.drop(d.loc[d[p + '-lim'] != 0].index)\n",
    "        d.plot.scatter(x='s_Age', y=p, label=g, ax=ax, color=c, alpha=.6)\n",
    "        dsc = np.empty((len(age_bins), 2))*np.nan\n",
    "        digz = np.digitize(d.s_Age, age_bins)\n",
    "        for c2, d2 in enumerate(d.groupby(digz)):\n",
    "            c3 = d2[0]\n",
    "            if c3 == len(age_bins):\n",
    "                break\n",
    "            d2 = d2[1]\n",
    "            dsc[c2, 0] = age_sets[c3]\n",
    "            dsc[c2, 1] = d2[p].median()\n",
    "        plt.plot(dsc[:, 0], dsc[:, 1], c)\n",
    "    plt.ylabel(c1)\n",
    "    plt.xlabel('')\n",
    "    plt.grid()\n",
    "plt.tight_layout()"
   ]
  },
  {
   "cell_type": "code",
   "execution_count": null,
   "metadata": {
    "hidden": true
   },
   "outputs": [],
   "source": []
  }
 ],
 "metadata": {
  "kernelspec": {
   "display_name": "Python 3",
   "language": "python",
   "name": "python3"
  },
  "language_info": {
   "codemirror_mode": {
    "name": "ipython",
    "version": 3
   },
   "file_extension": ".py",
   "mimetype": "text/x-python",
   "name": "python",
   "nbconvert_exporter": "python",
   "pygments_lexer": "ipython3",
   "version": "3.7.7"
  },
  "toc": {
   "base_numbering": 1,
   "nav_menu": {},
   "number_sections": true,
   "sideBar": true,
   "skip_h1_title": false,
   "title_cell": "Table of Contents",
   "title_sidebar": "Contents",
   "toc_cell": false,
   "toc_position": {},
   "toc_section_display": true,
   "toc_window_display": false
  },
  "varInspector": {
   "cols": {
    "lenName": 16,
    "lenType": 16,
    "lenVar": 40
   },
   "kernels_config": {
    "python": {
     "delete_cmd_postfix": "",
     "delete_cmd_prefix": "del ",
     "library": "var_list.py",
     "varRefreshCmd": "print(var_dic_list())"
    },
    "r": {
     "delete_cmd_postfix": ") ",
     "delete_cmd_prefix": "rm(",
     "library": "var_list.r",
     "varRefreshCmd": "cat(var_dic_list()) "
    }
   },
   "types_to_exclude": [
    "module",
    "function",
    "builtin_function_or_method",
    "instance",
    "_Feature"
   ],
   "window_display": false
  }
 },
 "nbformat": 4,
 "nbformat_minor": 2
}